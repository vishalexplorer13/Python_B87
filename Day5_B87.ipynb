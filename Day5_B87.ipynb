{
 "cells": [
  {
   "cell_type": "code",
   "execution_count": null,
   "id": "8e44a0cf-c7ea-461d-a560-aa24829fb3a3",
   "metadata": {},
   "outputs": [],
   "source": [
    "#organizing list datatype"
   ]
  },
  {
   "cell_type": "code",
   "execution_count": 3,
   "id": "c6dc8239-8d52-4d56-abf5-de1dfb9cd447",
   "metadata": {},
   "outputs": [],
   "source": [
    "cars=['Maruti','Hyundia','Volkswagon','Mahindra','Benz','Audi','BMW','TATA']"
   ]
  },
  {
   "cell_type": "code",
   "execution_count": 4,
   "id": "deb335f0-7565-4775-afcd-aa6b88540c4f",
   "metadata": {},
   "outputs": [
    {
     "name": "stdout",
     "output_type": "stream",
     "text": [
      "['Maruti', 'Hyundia', 'Volkswagon', 'Mahindra', 'Benz', 'Audi', 'BMW', 'TATA']\n"
     ]
    }
   ],
   "source": [
    "print(cars)"
   ]
  },
  {
   "cell_type": "code",
   "execution_count": 5,
   "id": "f3858daf-d786-425b-8775-8750b2dabee5",
   "metadata": {},
   "outputs": [
    {
     "name": "stdout",
     "output_type": "stream",
     "text": [
      "['Audi', 'BMW', 'Benz', 'Hyundia', 'Mahindra', 'Maruti', 'TATA', 'Volkswagon']\n"
     ]
    }
   ],
   "source": [
    "print(sorted(cars))"
   ]
  },
  {
   "cell_type": "code",
   "execution_count": null,
   "id": "f5eff4c1-3de0-4885-958c-86db3a3f72b9",
   "metadata": {},
   "outputs": [],
   "source": [
    "#permanat changes"
   ]
  },
  {
   "cell_type": "code",
   "execution_count": 6,
   "id": "aa796c52-68ed-4d12-b602-dfc78e288d74",
   "metadata": {},
   "outputs": [],
   "source": [
    "cars.sort()"
   ]
  },
  {
   "cell_type": "code",
   "execution_count": 7,
   "id": "805845d4-92fd-4cd1-bda7-91dbbbafd45a",
   "metadata": {},
   "outputs": [
    {
     "name": "stdout",
     "output_type": "stream",
     "text": [
      "['Audi', 'BMW', 'Benz', 'Hyundia', 'Mahindra', 'Maruti', 'TATA', 'Volkswagon']\n"
     ]
    }
   ],
   "source": [
    "print(cars)"
   ]
  },
  {
   "cell_type": "code",
   "execution_count": null,
   "id": "b077b301-22c2-4a6d-ae40-a74ce1e6a3f0",
   "metadata": {},
   "outputs": [],
   "source": [
    "# want list in reverse manner"
   ]
  },
  {
   "cell_type": "code",
   "execution_count": 8,
   "id": "94c6a751-14bf-4bf8-8c4a-1346367bf18b",
   "metadata": {},
   "outputs": [],
   "source": [
    "cars.reverse()"
   ]
  },
  {
   "cell_type": "code",
   "execution_count": 9,
   "id": "1e0a3dc4-1d1f-41f0-91f5-fb293fe939d7",
   "metadata": {},
   "outputs": [
    {
     "name": "stdout",
     "output_type": "stream",
     "text": [
      "['Volkswagon', 'TATA', 'Maruti', 'Mahindra', 'Hyundia', 'Benz', 'BMW', 'Audi']\n"
     ]
    }
   ],
   "source": [
    "print(cars)"
   ]
  },
  {
   "cell_type": "code",
   "execution_count": 10,
   "id": "66b15b94-59dd-4994-b39e-b9ff392ab989",
   "metadata": {},
   "outputs": [],
   "source": [
    "# req is how many number of items present in it"
   ]
  },
  {
   "cell_type": "code",
   "execution_count": 11,
   "id": "9b3157aa-1f45-44bc-bd0c-9f376723a0f5",
   "metadata": {},
   "outputs": [
    {
     "name": "stdout",
     "output_type": "stream",
     "text": [
      "['Volkswagon', 'TATA', 'Maruti', 'Mahindra', 'Hyundia', 'Benz', 'BMW', 'Audi']\n"
     ]
    }
   ],
   "source": [
    "print(cars)"
   ]
  },
  {
   "cell_type": "code",
   "execution_count": 12,
   "id": "98c25ee4-7ea2-480f-b91c-36b83f44b16d",
   "metadata": {},
   "outputs": [
    {
     "data": {
      "text/plain": [
       "8"
      ]
     },
     "execution_count": 12,
     "metadata": {},
     "output_type": "execute_result"
    }
   ],
   "source": [
    "len(cars)"
   ]
  },
  {
   "cell_type": "code",
   "execution_count": 13,
   "id": "05acfc48-38c8-4bfb-bb7b-14e46ee68a80",
   "metadata": {},
   "outputs": [],
   "source": [
    "STUDENTS=['ram','raju','prachi','priya','ansu','josh','sid','john']"
   ]
  },
  {
   "cell_type": "code",
   "execution_count": 16,
   "id": "35f86e5d-2ddf-4ff5-b318-27095bceaeeb",
   "metadata": {},
   "outputs": [
    {
     "name": "stdout",
     "output_type": "stream",
     "text": [
      "['ram', 'raju', 'prachi', 'priya', 'ansu', 'josh', 'sid', 'john']\n"
     ]
    }
   ],
   "source": [
    "print(STUDENTS)"
   ]
  },
  {
   "cell_type": "code",
   "execution_count": 19,
   "id": "dcf9f467-6c64-474b-8e86-3177cb38bb41",
   "metadata": {},
   "outputs": [
    {
     "name": "stdout",
     "output_type": "stream",
     "text": [
      "['ram', 'raju']\n"
     ]
    }
   ],
   "source": [
    "print(STUDENTS[0:2])"
   ]
  },
  {
   "cell_type": "code",
   "execution_count": 20,
   "id": "b8093e98-104c-44b3-b276-c127e89818e2",
   "metadata": {},
   "outputs": [
    {
     "name": "stdout",
     "output_type": "stream",
     "text": [
      "['ansu', 'josh']\n"
     ]
    }
   ],
   "source": [
    "print(STUDENTS[4:6])"
   ]
  },
  {
   "cell_type": "code",
   "execution_count": null,
   "id": "b2b45cce-1f74-4b06-9671-60e86a86fd3b",
   "metadata": {},
   "outputs": [],
   "source": []
  }
 ],
 "metadata": {
  "kernelspec": {
   "display_name": "Python 3 (ipykernel)",
   "language": "python",
   "name": "python3"
  },
  "language_info": {
   "codemirror_mode": {
    "name": "ipython",
    "version": 3
   },
   "file_extension": ".py",
   "mimetype": "text/x-python",
   "name": "python",
   "nbconvert_exporter": "python",
   "pygments_lexer": "ipython3",
   "version": "3.11.7"
  }
 },
 "nbformat": 4,
 "nbformat_minor": 5
}
